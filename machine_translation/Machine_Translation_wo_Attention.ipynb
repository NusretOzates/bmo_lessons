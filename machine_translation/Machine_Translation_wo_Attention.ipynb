{
  "nbformat": 4,
  "nbformat_minor": 0,
  "metadata": {
    "colab": {
      "provenance": [],
      "gpuType": "T4"
    },
    "kernelspec": {
      "name": "python3",
      "display_name": "Python 3"
    },
    "language_info": {
      "name": "python"
    },
    "accelerator": "GPU"
  },
  "cells": [
    {
      "cell_type": "code",
      "source": [
        "!pip install datasets keras-nlp"
      ],
      "metadata": {
        "id": "lSRiflan8Rtc"
      },
      "execution_count": null,
      "outputs": []
    },
    {
      "cell_type": "code",
      "source": [
        "from datasets import load_dataset\n",
        "import tensorflow as tf\n",
        "from tensorflow import keras\n",
        "from keras import layers\n",
        "import keras_nlp"
      ],
      "metadata": {
        "id": "yzqjuVNqpX63",
        "colab": {
          "base_uri": "https://localhost:8080/"
        },
        "outputId": "8cd4954f-0c0b-44b0-b44e-21505d59bb4d"
      },
      "execution_count": 1,
      "outputs": [
        {
          "output_type": "stream",
          "name": "stdout",
          "text": [
            "Using TensorFlow backend\n"
          ]
        }
      ]
    },
    {
      "cell_type": "code",
      "source": [
        "BATCH_SIZE = 64\n",
        "EPOCHS = 10  # This should be at least 10 for convergence\n",
        "MAX_SEQUENCE_LENGTH = 40\n",
        "TR_VOCAB_SIZE = 15000\n",
        "EN_VOCAB_SIZE = 15000\n",
        "\n",
        "EMBED_DIM = 256\n",
        "INTERMEDIATE_DIM = 2048\n",
        "\n",
        "reserved_tokens = [\"[PAD]\", \"[UNK]\", \"[START]\", \"[END]\"]"
      ],
      "metadata": {
        "id": "GquLJITHpZYz"
      },
      "execution_count": 2,
      "outputs": []
    },
    {
      "cell_type": "code",
      "source": [
        "train_data = load_dataset(\"opus100\", \"en-tr\", split=\"train[:500000]\")\n",
        "train_dataset = train_data.map(lambda x: {\"tr\": x[\"translation\"]['tr'], \"en\": x[\"translation\"]['en']})\n",
        "train_dataset = train_dataset.to_tf_dataset(50000, columns=[\"tr\", \"en\"])"
      ],
      "metadata": {
        "id": "w5mBzbYMpa2F"
      },
      "execution_count": 3,
      "outputs": []
    },
    {
      "cell_type": "code",
      "source": [
        "# Load the vocabulary\n",
        "tr_vocab = []\n",
        "en_vocab = []\n",
        "\n",
        "with open(\"tr_vocab.txt\",'r') as f:\n",
        "  for word in f.readlines():\n",
        "    tr_vocab.append(word.strip())\n",
        "\n",
        "with open(\"en_vocab.txt\",'r') as f:\n",
        "  for word in f.readlines():\n",
        "    en_vocab.append(word.strip())"
      ],
      "metadata": {
        "id": "l_iyBxK9pdlz"
      },
      "execution_count": 4,
      "outputs": []
    },
    {
      "cell_type": "code",
      "source": [
        "eng_tokenizer = keras_nlp.tokenizers.WordPieceTokenizer(\n",
        "    vocabulary=set(en_vocab), lowercase=True\n",
        ")\n",
        "tr_tokenizer = keras_nlp.tokenizers.WordPieceTokenizer(\n",
        "    vocabulary=set(tr_vocab), lowercase=True\n",
        ")"
      ],
      "metadata": {
        "id": "7n1xVafQpe53"
      },
      "execution_count": 5,
      "outputs": []
    },
    {
      "cell_type": "code",
      "source": [
        "# Pad `tr` to `MAX_SEQUENCE_LENGTH`.\n",
        "tr_start_end_packer = keras_nlp.layers.StartEndPacker(\n",
        "    sequence_length=MAX_SEQUENCE_LENGTH,\n",
        "    pad_value=tr_tokenizer.token_to_id(\"[PAD]\"),\n",
        ")\n",
        "\n",
        "# Add special tokens (`\"[START]\"` and `\"[END]\"`) to `en` and pad it as well.\n",
        "en_start_end_packer = keras_nlp.layers.StartEndPacker(\n",
        "    sequence_length=MAX_SEQUENCE_LENGTH + 1,\n",
        "    start_value=eng_tokenizer.token_to_id(\"[START]\"),\n",
        "    end_value=eng_tokenizer.token_to_id(\"[END]\"),\n",
        "    pad_value=eng_tokenizer.token_to_id(\"[PAD]\"),\n",
        ")\n",
        "\n",
        "def preprocess_batch(tr, en):\n",
        "    batch_size = tf.shape(en)[0]\n",
        "\n",
        "    tr = tr_tokenizer(tr)\n",
        "    tr = tr_start_end_packer(tr)\n",
        "\n",
        "\n",
        "    en = eng_tokenizer(en)\n",
        "    en = en_start_end_packer(en)\n",
        "\n",
        "    return (\n",
        "        {\n",
        "            \"encoder_inputs\": tr,\n",
        "            \"decoder_inputs\": en[:, :-1],\n",
        "        },\n",
        "        en[:, 1:],\n",
        "    )\n",
        "\n",
        "\n",
        "def make_dataset(dataset):\n",
        "    dataset = dataset.map(lambda x: (x['tr'],x['en'])).unbatch()\n",
        "    dataset = dataset.batch(BATCH_SIZE)\n",
        "    dataset = dataset.map(preprocess_batch, num_parallel_calls=tf.data.AUTOTUNE)\n",
        "    return dataset.shuffle(2048).prefetch(16)\n",
        "\n",
        "\n",
        "train_ds = make_dataset(train_dataset)\n",
        "\n",
        "test_dataset = load_dataset(\"opus100\", \"en-tr\", split=\"test\")\n",
        "test_dataset = test_dataset.map(lambda x: {\"tr\": x[\"translation\"]['tr'], \"en\": x[\"translation\"]['en']})\n",
        "test_dataset = test_dataset.remove_columns([\"translation\"])\n",
        "test_dataset = test_dataset.to_tf_dataset(BATCH_SIZE, columns=[\"tr\", \"en\"])\n",
        "val_ds = make_dataset(test_dataset)"
      ],
      "metadata": {
        "id": "jmwKnMEnpkyN"
      },
      "execution_count": 6,
      "outputs": []
    },
    {
      "cell_type": "code",
      "source": [
        "for x in train_ds.take(1):\n",
        "  print(x)"
      ],
      "metadata": {
        "id": "3vzatPURq5-d"
      },
      "execution_count": null,
      "outputs": []
    },
    {
      "cell_type": "code",
      "source": [
        "class Encoder(layers.Layer):\n",
        "    def __init__(self, enc_units:int):\n",
        "        super(Encoder, self).__init__()\n",
        "        self.gru = layers.Bidirectional(\n",
        "            merge_mode=\"sum\",\n",
        "            layer=layers.GRU(enc_units)\n",
        "        )\n",
        "\n",
        "    def call(self, inputs, training=None, mask=None):\n",
        "        output = self.gru(inputs,mask=mask)\n",
        "        return output\n",
        "\n",
        "\n",
        "class Decoder(layers.Layer):\n",
        "    def __init__(self, vocab_size:int, dec_units:int):\n",
        "        super(Decoder, self).__init__()\n",
        "        self.gru = layers.GRU(dec_units, return_sequences=True)\n",
        "        self.fc = layers.Dense(vocab_size)\n",
        "\n",
        "    def call(self, inputs, training=None, mask=None):\n",
        "        # X is the target sentence, y is the encoder output\n",
        "        x, state = inputs\n",
        "        output = self.gru(x, initial_state=state,mask=mask[0])\n",
        "        x = self.fc(output)\n",
        "        return x\n",
        "\n",
        "\n",
        "class Seq2Seq(tf.keras.Model):\n",
        "    def __init__(self, encoder, decoder,enc_vocab_size,dec_vocab_size, embedding_dim):\n",
        "        super(Seq2Seq, self).__init__()\n",
        "        self.encoder = encoder\n",
        "        self.decoder = decoder\n",
        "        self.encoder_embedding = layers.Embedding(enc_vocab_size, embedding_dim, mask_zero=True)\n",
        "        self.decoder_embedding = layers.Embedding(dec_vocab_size, embedding_dim, mask_zero=True)\n",
        "\n",
        "    def call(self, inputs, training=None, mask=None):\n",
        "        x, y = inputs['encoder_inputs'], inputs['decoder_inputs']\n",
        "        x = self.encoder_embedding(x)\n",
        "        y = self.decoder_embedding(y)\n",
        "\n",
        "        state = self.encoder(x)\n",
        "        y = self.decoder((y, state))\n",
        "        return y\n",
        "\n",
        "\n",
        "def masked_loss(y_true, y_pred):\n",
        "    # Calculate the loss for each item in the batch.\n",
        "    loss_fn = tf.keras.losses.SparseCategoricalCrossentropy(\n",
        "        from_logits=True, reduction='none')\n",
        "    loss = loss_fn(y_true, y_pred)\n",
        "\n",
        "    # Mask off the losses on padding.\n",
        "    mask = tf.cast(y_true != 0, loss.dtype)\n",
        "    loss *= mask\n",
        "\n",
        "    # Return the total.\n",
        "    return tf.reduce_sum(loss) / tf.reduce_sum(mask)\n",
        "\n",
        "\n",
        "def masked_acc(y_true, y_pred):\n",
        "    # Calculate the loss for each item in the batch.\n",
        "    y_pred = tf.argmax(y_pred, axis=-1)\n",
        "    y_pred = tf.cast(y_pred, y_true.dtype)\n",
        "\n",
        "    match = tf.cast(y_true == y_pred, tf.float32)\n",
        "    mask = tf.cast(y_true != 0, tf.float32)\n",
        "\n",
        "    return tf.reduce_sum(match) / tf.reduce_sum(mask)\n",
        "\n",
        "enc = Encoder(enc_units=INTERMEDIATE_DIM)\n",
        "dec = Decoder(dec_units=INTERMEDIATE_DIM,vocab_size=eng_tokenizer.vocabulary_size())\n",
        "optimizer = tf.keras.optimizers.Adam()\n",
        "\n",
        "model = Seq2Seq(encoder=enc, decoder=dec,enc_vocab_size=tr_tokenizer.vocabulary_size(),dec_vocab_size=eng_tokenizer.vocabulary_size(),embedding_dim=EMBED_DIM)\n",
        "model.compile(optimizer=optimizer, loss=masked_loss, metrics=[masked_acc], run_eagerly=False)"
      ],
      "metadata": {
        "id": "veqjkvHA8GCh"
      },
      "execution_count": 7,
      "outputs": []
    },
    {
      "cell_type": "code",
      "source": [
        "model.fit(train_ds, validation_data=val_ds, epochs=EPOCHS)"
      ],
      "metadata": {
        "id": "uky6vApp8HVH"
      },
      "execution_count": null,
      "outputs": []
    },
    {
      "cell_type": "code",
      "source": [
        "model.summary()"
      ],
      "metadata": {
        "id": "PNsstDCNd_RT"
      },
      "execution_count": null,
      "outputs": []
    },
    {
      "cell_type": "code",
      "source": [
        "def translate(input_text, max_length=50):\n",
        "\n",
        "    input_text = tf.convert_to_tensor([input_text])\n",
        "        # Tokenize the encoder input.\n",
        "    encoder_input = tr_tokenizer(input_text).to_tensor(\n",
        "        shape=(None, MAX_SEQUENCE_LENGTH)\n",
        "    )\n",
        "    decoder_input = tf.expand_dims([eng_tokenizer.token_to_id(\"[START]\")], 0)\n",
        "\n",
        "\n",
        "    end = False\n",
        "    results = []\n",
        "    while not end:\n",
        "        output = model({\"encoder_inputs\": encoder_input, \"decoder_inputs\":decoder_input})\n",
        "        output = tf.argmax(output[:,-1,:], -1,output_type=tf.int32)\n",
        "        results.append(output.numpy()[0])\n",
        "\n",
        "        if output.numpy()[0] == eng_tokenizer.token_to_id(\"[END]\") or len(results) >= max_length:\n",
        "            end = True\n",
        "        output = tf.reshape(output,[-1,1])\n",
        "        decoder_input = tf.concat([decoder_input,output],axis=-1)\n",
        "\n",
        "    return eng_tokenizer.detokenize(results)\n",
        "\n",
        "print(translate(\"Merhaba ben nusret\"))\n",
        "print(translate(\"Ben öğrenci olmak istiyorum\"))\n",
        "print(translate(\"Ve ben ölüm oldum\"))"
      ],
      "metadata": {
        "id": "qRvRcSJE8Hrc",
        "colab": {
          "base_uri": "https://localhost:8080/"
        },
        "outputId": "9cd33895-6fbd-47d3-de3a-69d684ebb46e"
      },
      "execution_count": 27,
      "outputs": [
        {
          "output_type": "stream",
          "name": "stdout",
          "text": [
            "tf.Tensor(b\"hey , what ' s the fuck ? [END]\", shape=(), dtype=string)\n",
            "tf.Tensor(b\"timrist , i ' m a little bit of the time . [END]\", shape=(), dtype=string)\n",
            "tf.Tensor(b\"and i ' m not a couple of the world . [END]\", shape=(), dtype=string)\n"
          ]
        }
      ]
    },
    {
      "cell_type": "code",
      "source": [],
      "metadata": {
        "id": "Lcd5VHiCGOR-"
      },
      "execution_count": null,
      "outputs": []
    }
  ]
}